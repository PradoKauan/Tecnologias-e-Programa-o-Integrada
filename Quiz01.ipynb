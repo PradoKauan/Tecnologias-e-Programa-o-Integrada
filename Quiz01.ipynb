{
  "nbformat": 4,
  "nbformat_minor": 0,
  "metadata": {
    "colab": {
      "provenance": [],
      "toc_visible": true,
      "authorship_tag": "ABX9TyP6N2Dao3CT3MVF3+r8gYrv",
      "include_colab_link": true
    },
    "kernelspec": {
      "name": "python3",
      "display_name": "Python 3"
    },
    "language_info": {
      "name": "python"
    }
  },
  "cells": [
    {
      "cell_type": "markdown",
      "metadata": {
        "id": "view-in-github",
        "colab_type": "text"
      },
      "source": [
        "<a href=\"https://colab.research.google.com/github/PradoKauan/Tecnologias-e-Programa-o-Integrada/blob/main/Quiz01.ipynb\" target=\"_parent\"><img src=\"https://colab.research.google.com/assets/colab-badge.svg\" alt=\"Open In Colab\"/></a>"
      ]
    },
    {
      "cell_type": "code",
      "source": [
        "import re\n",
        "\n",
        "#Texto\n",
        "print(\"Sua senha deve conter: \\n\")\n",
        "print(\".No mínimo, uma letra maiúscula, uma letra minúscula e um número;\")\n",
        "print(\".A mesma não pode ter nenhum caractere de pontuação, acentuação ou espaço;\")\n",
        "print(\".Além disso, a senha pode ter de 6 a 32 caracteres. \\n\")\n",
        "\n",
        "def validador(senhas):\n",
        "\n",
        "  #Validando o tamanho da senha\n",
        "  if len(senhas) <= 6 or len(senhas)>= 32:\n",
        "    return \"Senha inválida!\"\n",
        "\n",
        "#Validando os caracteres\n",
        "  if not re.search (\"[a-z]\",senhas):\n",
        "    return \"Senha inválida!\"\n",
        "  if not re.search (\"[A-Z]\", senhas):\n",
        "    return \"Senha inválida!\"\n",
        "  if not re.search (\"[0-9]\", senhas):\n",
        "    return \"Senha inválida!\"\n",
        "  if re.search (\"[^a-zA-Z0-9]\", senhas):\n",
        "    return \"Senha inválida!\"\n",
        "\n",
        "#Repetição\n",
        "try:\n",
        "  while True:\n",
        "    senhas = input((\"Digite a senha: \"))\n",
        "    print(validador(senhas))\n",
        "except EOFError:\n",
        "  pass"
      ],
      "metadata": {
        "id": "OpuAqrVPNJJi"
      },
      "execution_count": null,
      "outputs": []
    }
  ]
}